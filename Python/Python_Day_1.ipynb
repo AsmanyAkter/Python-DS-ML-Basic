{
 "cells": [
  {
   "cell_type": "markdown",
   "metadata": {
    "id": "VnfyhumJ6nJJ"
   },
   "source": [
    "\n",
    "\n",
    "# <center>**Python Guidelines for Begineers** **DAY - 1**</center>"
   ]
  },
  {
   "cell_type": "markdown",
   "metadata": {
    "id": "fuSJHb1DAygj"
   },
   "source": [
    "# **Day-1 Activities**\n",
    "\n",
    "\n",
    "* Python Intro\n",
    "* Python Environment Setup\n",
    "* Basic Syntax & Variables\n",
    "* Data Types\n",
    "* User Input\n",
    "* Arithmetic Operator\n",
    "* String & F-String\n",
    "\n",
    "\n"
   ]
  },
  {
   "cell_type": "markdown",
   "metadata": {
    "id": "-YsQvsZZmaiE"
   },
   "source": [
    "## **1. Python Introduction**\n",
    "\n",
    "\n",
    "\n",
    "```\n",
    "*   It was created by Guido van Rossum, and released in 1991.\n",
    "*   We can easily build Desktop GUI applications.\n",
    "*   Generel purpose as well as Object Oriented Language.\n",
    "*   Readable and Maintainable Code\n",
    "*   It provides libraries for Game Development.\n",
    "*   Compatible with Major Platforms and Systems.\n",
    "*   It provides Framework for building websites. i.e, Django, Flask etc.\n",
    "*   It makes data science tasks easier.\n",
    "```\n",
    "\n",
    "\n",
    "\n",
    "\n"
   ]
  },
  {
   "cell_type": "markdown",
   "metadata": {
    "id": "prV4Lfdt90GG"
   },
   "source": [
    "## **2. Python Environment Setup**"
   ]
  },
  {
   "cell_type": "markdown",
   "metadata": {
    "id": "d7i9DX7L9Wz3"
   },
   "source": [
    "\n",
    "\n",
    "*   Python Interpreter\n",
    "*   Code-Editor\n",
    "*   Jupyter Notebook\n",
    "*   Google Colaborator\n",
    "\n",
    "Download Link For [Windows 8/10](https://www.python.org/ftp/python/3.9.0/python-3.9.0-amd64.exe): \n",
    "`[Version 3.9 will not work in Windows 7]`\n"
   ]
  },
  {
   "cell_type": "markdown",
   "metadata": {
    "id": "17InDg2JAokM"
   },
   "source": [
    "## **3.  Python basic Syntax & variables**"
   ]
  },
  {
   "cell_type": "markdown",
   "metadata": {
    "id": "sq_UPGgOIrK3"
   },
   "source": [
    "**First Python Program**"
   ]
  },
  {
   "cell_type": "code",
   "execution_count": 2,
   "metadata": {
    "colab": {
     "base_uri": "https://localhost:8080/",
     "height": 34
    },
    "id": "IVubhWdpF551",
    "outputId": "8b884f09-6ba8-4f0c-935d-2339b805d6e6"
   },
   "outputs": [
    {
     "name": "stdout",
     "output_type": "stream",
     "text": [
      "Hello World. \n"
     ]
    }
   ],
   "source": [
    "print(\"Hello World. \")"
   ]
  },
  {
   "cell_type": "markdown",
   "metadata": {
    "id": "FMfD34flI55h"
   },
   "source": [
    "**Variable is declared automatically during Assingment**"
   ]
  },
  {
   "cell_type": "code",
   "execution_count": 3,
   "metadata": {
    "id": "hwgk_7kSCBbk"
   },
   "outputs": [
    {
     "name": "stdout",
     "output_type": "stream",
     "text": [
      "<class 'int'>\n",
      "54\n"
     ]
    }
   ],
   "source": [
    "x = 10\n",
    "print(type(x))\n",
    "y = x + 44\n",
    "print(y)"
   ]
  },
  {
   "cell_type": "markdown",
   "metadata": {
    "id": "5YHX1Q0OJkoh"
   },
   "source": [
    "**Double qoutation & Single qoutation**"
   ]
  },
  {
   "cell_type": "code",
   "execution_count": 4,
   "metadata": {
    "id": "A4zY0R2sCFxK"
   },
   "outputs": [
    {
     "name": "stdout",
     "output_type": "stream",
     "text": [
      "Hello\n",
      "World\n"
     ]
    }
   ],
   "source": [
    "first_name  = \"Hello\"\n",
    "last_name = 'World'\n",
    "\n",
    "print(first_name)\n",
    "print(last_name)"
   ]
  },
  {
   "cell_type": "markdown",
   "metadata": {
    "id": "gNiujj4XKywl"
   },
   "source": [
    "**Case Sensitivity**"
   ]
  },
  {
   "cell_type": "code",
   "execution_count": 5,
   "metadata": {
    "id": "VTUurqFlI6nw",
    "scrolled": true
   },
   "outputs": [
    {
     "name": "stdout",
     "output_type": "stream",
     "text": [
      "50 25\n"
     ]
    }
   ],
   "source": [
    "age = 50\n",
    "Age = 25\n",
    "print(age, Age)"
   ]
  },
  {
   "cell_type": "markdown",
   "metadata": {
    "id": "_hw2c0kILVGp"
   },
   "source": [
    "**Assigning values to multiple variable**"
   ]
  },
  {
   "cell_type": "code",
   "execution_count": 6,
   "metadata": {
    "id": "RD32ymsUCF8D"
   },
   "outputs": [
    {
     "name": "stdout",
     "output_type": "stream",
     "text": [
      "10 20 30\n"
     ]
    }
   ],
   "source": [
    "num1 = 10\n",
    "num2 = 20\n",
    "num3 = 30\n",
    "print(num1, num2, num3)"
   ]
  },
  {
   "cell_type": "code",
   "execution_count": 7,
   "metadata": {
    "id": "Ru1eSLBLCGEs"
   },
   "outputs": [
    {
     "name": "stdout",
     "output_type": "stream",
     "text": [
      "10 20 30\n"
     ]
    }
   ],
   "source": [
    "num1, num2, num3 = 10, 20, 30\n",
    "print(num1, num2, num3)"
   ]
  },
  {
   "cell_type": "markdown",
   "metadata": {
    "id": "KF9kTxBoMVya"
   },
   "source": [
    "**Adding Strings & adding Numbers**"
   ]
  },
  {
   "cell_type": "code",
   "execution_count": 8,
   "metadata": {
    "id": "qZHjWBAMCGNT"
   },
   "outputs": [
    {
     "name": "stdout",
     "output_type": "stream",
     "text": [
      "HelloWorld\n"
     ]
    }
   ],
   "source": [
    "full_name = first_name + \"\" + last_name\n",
    "print(full_name)\n"
   ]
  },
  {
   "cell_type": "code",
   "execution_count": 9,
   "metadata": {
    "id": "YF2AYPZPCGVc"
   },
   "outputs": [
    {
     "name": "stdout",
     "output_type": "stream",
     "text": [
      "300\n"
     ]
    }
   ],
   "source": [
    "number1 = 100\n",
    "number2 = 200\n",
    "add = number1 + number2\n",
    "print(add)"
   ]
  },
  {
   "cell_type": "markdown",
   "metadata": {
    "id": "5lQPa_tkQDeP"
   },
   "source": [
    "**Python Comments**"
   ]
  },
  {
   "cell_type": "code",
   "execution_count": 10,
   "metadata": {
    "id": "VyJUlb_aQC2m"
   },
   "outputs": [
    {
     "name": "stdout",
     "output_type": "stream",
     "text": [
      "Comment Example. \n"
     ]
    }
   ],
   "source": [
    "#This is a Comment.\n",
    "\"\"\"Multi line comment.\n",
    "This is a Comment.\n",
    "This is a Comment.\n",
    "\"\"\"\n",
    "\n",
    "print(\"Comment Example. \")"
   ]
  },
  {
   "cell_type": "markdown",
   "metadata": {
    "id": "DjzuBwtsCW44"
   },
   "source": [
    "## **4. Data Types**"
   ]
  },
  {
   "cell_type": "markdown",
   "metadata": {
    "id": "ZXU-i_wYPzds"
   },
   "source": [
    "**Basic Types of Data**"
   ]
  },
  {
   "cell_type": "code",
   "execution_count": 11,
   "metadata": {
    "id": "9LRJs3TkCgE_"
   },
   "outputs": [
    {
     "name": "stdout",
     "output_type": "stream",
     "text": [
      "Test User <class 'str'>\n"
     ]
    }
   ],
   "source": [
    "#String Type\n",
    "name = \"Test User\"\n",
    "print(name, type(name))"
   ]
  },
  {
   "cell_type": "code",
   "execution_count": 12,
   "metadata": {
    "id": "Zkd1NMfXCgre"
   },
   "outputs": [
    {
     "name": "stdout",
     "output_type": "stream",
     "text": [
      "250 <class 'int'>\n"
     ]
    }
   ],
   "source": [
    "#Integer Type\n",
    "number = 250\n",
    "print(number, type(number))"
   ]
  },
  {
   "cell_type": "code",
   "execution_count": 13,
   "metadata": {
    "id": "Q9NZullaCg2t"
   },
   "outputs": [
    {
     "name": "stdout",
     "output_type": "stream",
     "text": [
      "5.0 <class 'float'>\n",
      "10000.0 <class 'float'>\n",
      "12000.0 <class 'float'>\n"
     ]
    }
   ],
   "source": [
    "#Float Type\n",
    "number = 5.000\n",
    "print(number, type(number))\n",
    "number2 = 1e4\n",
    "print(number2, type(number2))\n",
    "number3 = 12E3\n",
    "print(number3, type(number3))"
   ]
  },
  {
   "cell_type": "code",
   "execution_count": 14,
   "metadata": {
    "id": "CW-9cm5KChAq"
   },
   "outputs": [
    {
     "name": "stdout",
     "output_type": "stream",
     "text": [
      "True <class 'bool'>\n",
      "False <class 'bool'>\n"
     ]
    }
   ],
   "source": [
    "#Boolean Type\n",
    "variable1 = True\n",
    "print(variable1, type(variable1))\n",
    "variable2 = False\n",
    "print(variable2, type(variable2))"
   ]
  },
  {
   "cell_type": "code",
   "execution_count": 15,
   "metadata": {
    "id": "S51u2azzChNv"
   },
   "outputs": [
    {
     "name": "stdout",
     "output_type": "stream",
     "text": [
      "range(1, 11) <class 'range'>\n"
     ]
    }
   ],
   "source": [
    "#Range Type\n",
    "OneToTen = range(1, 11)\n",
    "print(OneToTen, type(OneToTen))"
   ]
  },
  {
   "cell_type": "markdown",
   "metadata": {
    "id": "t1hzwtRJS8Lp"
   },
   "source": [
    "**Other Types**\n",
    "*   List Type\n",
    "*   Tuple Type\n",
    "*   Dictionary Type\n",
    "\n",
    "```\n",
    "# [We will learn this on the next session]\n",
    "```\n",
    "\n",
    "\n"
   ]
  },
  {
   "cell_type": "markdown",
   "metadata": {
    "id": "yfTDOVwXTUhm"
   },
   "source": [
    "**Type Casting**"
   ]
  },
  {
   "cell_type": "code",
   "execution_count": 16,
   "metadata": {
    "id": "V-UsvpUgChhD"
   },
   "outputs": [
    {
     "name": "stdout",
     "output_type": "stream",
     "text": [
      "12345 <class 'str'>\n",
      "12345 <class 'int'>\n"
     ]
    }
   ],
   "source": [
    "#String To Integer\n",
    "number = \"12345\"\n",
    "print(number, type(number))\n",
    "\n",
    "number2 = int(number)\n",
    "print(number2, type(number2))"
   ]
  },
  {
   "cell_type": "code",
   "execution_count": 17,
   "metadata": {
    "id": "vs-kXofwChm4"
   },
   "outputs": [
    {
     "name": "stdout",
     "output_type": "stream",
     "text": [
      "12345 <class 'int'>\n",
      "12345 <class 'str'>\n"
     ]
    }
   ],
   "source": [
    "#Integer To String\n",
    "value = 12345\n",
    "print(value, type(value))\n",
    "\n",
    "value2 = str(value)\n",
    "print(value2, type(value2))"
   ]
  },
  {
   "cell_type": "code",
   "execution_count": 18,
   "metadata": {
    "id": "ZMHrYy2MCh79"
   },
   "outputs": [
    {
     "name": "stdout",
     "output_type": "stream",
     "text": [
      "12345 <class 'str'>\n",
      "12345.0 <class 'float'>\n"
     ]
    }
   ],
   "source": [
    "#String To Float\n",
    "number = \"12345\"\n",
    "print(number, type(number))\n",
    "\n",
    "number2 = float(number)\n",
    "print(number2, type(number2))\n",
    "\n",
    "#Float To String (Try Yourself)"
   ]
  },
  {
   "cell_type": "code",
   "execution_count": 19,
   "metadata": {
    "id": "RD_C4Q39CiIE"
   },
   "outputs": [
    {
     "name": "stdout",
     "output_type": "stream",
     "text": [
      "10 <class 'int'>\n",
      "10.0 <class 'float'>\n"
     ]
    }
   ],
   "source": [
    "#Integer To Float\n",
    "value = 10\n",
    "print(value, type(value))\n",
    "\n",
    "value2 = float(value)\n",
    "print(value2, type(value2))\n",
    "\n",
    "#Float to Integer (Try Yourself)"
   ]
  },
  {
   "cell_type": "markdown",
   "metadata": {
    "id": "zo-OqhvXCxkW"
   },
   "source": [
    "## **5. User Input**"
   ]
  },
  {
   "cell_type": "markdown",
   "metadata": {
    "id": "5P2Uktok434W"
   },
   "source": [
    "**Input Function**"
   ]
  },
  {
   "cell_type": "code",
   "execution_count": 20,
   "metadata": {
    "id": "v4cmAU0EC9v5"
   },
   "outputs": [
    {
     "name": "stdout",
     "output_type": "stream",
     "text": [
      "python\n",
      "python\n"
     ]
    }
   ],
   "source": [
    "# Taking String Input\n",
    "name = input()\n",
    "print(name)"
   ]
  },
  {
   "cell_type": "code",
   "execution_count": null,
   "metadata": {
    "id": "Wqts9vJ2C99G"
   },
   "outputs": [],
   "source": []
  },
  {
   "cell_type": "code",
   "execution_count": 22,
   "metadata": {
    "id": "xW4GZMrPC-Kv"
   },
   "outputs": [
    {
     "name": "stdout",
     "output_type": "stream",
     "text": [
      "10\n",
      "<class 'str'>\n",
      "<class 'int'>\n"
     ]
    }
   ],
   "source": [
    "# Integer Input\n",
    "value = input()\n",
    "print(type(value))\n",
    "value_int = int(value)\n",
    "print(type(value_int))"
   ]
  },
  {
   "cell_type": "code",
   "execution_count": 23,
   "metadata": {
    "id": "mFgIQSI3C-Vo"
   },
   "outputs": [
    {
     "name": "stdout",
     "output_type": "stream",
     "text": [
      "Enter a number : 10\n",
      "10\n"
     ]
    }
   ],
   "source": [
    "#shortcut way\n",
    "value = int(input(\"Enter a number : \"))\n",
    "print(value)"
   ]
  },
  {
   "cell_type": "code",
   "execution_count": null,
   "metadata": {
    "id": "CkatX8RuC-eB"
   },
   "outputs": [],
   "source": [
    "#Printing multiple value \n",
    "\n",
    "name = input(\"Enter your name : \")\n",
    "age = int(input(\"Enter your age : \"))\n",
    "print(\"Hello\", name, \". You are\", age, \" years old. \")"
   ]
  },
  {
   "cell_type": "code",
   "execution_count": 37,
   "metadata": {
    "id": "CqEq5iIyC-mQ"
   },
   "outputs": [
    {
     "name": "stdout",
     "output_type": "stream",
     "text": [
      "Hello, Asmany. You are 24 years old. \n"
     ]
    }
   ],
   "source": [
    "#Using f-string\n",
    "\n",
    "print(f\"Hello, {name}. You are {age} years old. \")"
   ]
  },
  {
   "cell_type": "code",
   "execution_count": null,
   "metadata": {
    "id": "bJscZ9uUC-uK"
   },
   "outputs": [],
   "source": []
  },
  {
   "cell_type": "code",
   "execution_count": null,
   "metadata": {
    "id": "vixxwFeQC-2j"
   },
   "outputs": [],
   "source": []
  },
  {
   "cell_type": "code",
   "execution_count": null,
   "metadata": {
    "id": "97iLxxgZC_AX"
   },
   "outputs": [],
   "source": []
  },
  {
   "cell_type": "code",
   "execution_count": null,
   "metadata": {
    "id": "WovG46svC_He"
   },
   "outputs": [],
   "source": []
  },
  {
   "cell_type": "markdown",
   "metadata": {
    "id": "HTF4eRrVC_6M"
   },
   "source": [
    "## **6. Python Operators**"
   ]
  },
  {
   "cell_type": "markdown",
   "metadata": {
    "id": "P3SZN7XVB6i3"
   },
   "source": [
    "**Arithmetic Operator**"
   ]
  },
  {
   "cell_type": "code",
   "execution_count": null,
   "metadata": {
    "id": "vs1jEusVDG76"
   },
   "outputs": [],
   "source": [
    "#addition\n",
    "x = 50\n",
    "y = 12\n",
    "z = x + y\n",
    "print(z)"
   ]
  },
  {
   "cell_type": "code",
   "execution_count": null,
   "metadata": {
    "id": "MQJbTC5ZDHMg"
   },
   "outputs": [],
   "source": [
    "#Subtraction with user input value\n"
   ]
  },
  {
   "cell_type": "code",
   "execution_count": null,
   "metadata": {
    "id": "wxxOcAaLDHZR"
   },
   "outputs": [],
   "source": [
    "#Multiplication with user input"
   ]
  },
  {
   "cell_type": "markdown",
   "metadata": {
    "id": "4w-o_vZjDElM"
   },
   "source": [
    "![main-qimg-262969a6a3d87a11a35a22c4650a5413.png](data:image/png;base64,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)"
   ]
  },
  {
   "cell_type": "code",
   "execution_count": null,
   "metadata": {
    "id": "xHfDfAKrDHjM"
   },
   "outputs": [],
   "source": [
    "#Division with user input "
   ]
  },
  {
   "cell_type": "code",
   "execution_count": null,
   "metadata": {
    "id": "kwqNHx-tDHsL"
   },
   "outputs": [],
   "source": [
    "#Modulus with user input "
   ]
  },
  {
   "cell_type": "code",
   "execution_count": null,
   "metadata": {
    "id": "3s2wi8DCDH9V"
   },
   "outputs": [],
   "source": [
    "#Exponential operator"
   ]
  },
  {
   "cell_type": "code",
   "execution_count": null,
   "metadata": {
    "id": "Xv96ETi8DIFo"
   },
   "outputs": [],
   "source": [
    "#Floor Division"
   ]
  },
  {
   "cell_type": "markdown",
   "metadata": {
    "id": "_uIgFFrYM2j5"
   },
   "source": [
    "**Assignment Operator**"
   ]
  },
  {
   "cell_type": "code",
   "execution_count": null,
   "metadata": {
    "id": "EL6gJOVsMv0F"
   },
   "outputs": [],
   "source": [
    "#swaping values of two variable (the common way)\n",
    "a = 10\n",
    "b = 5\n",
    "print(f\"a={a}, b={b}\")\n",
    "temp = a\n",
    "a = b\n",
    "b = temp\n",
    "print(f\"a={a}, b={b}\")\n"
   ]
  },
  {
   "cell_type": "code",
   "execution_count": null,
   "metadata": {
    "id": "HW1rdZliMxmN"
   },
   "outputs": [],
   "source": [
    "#swaping values of two variable (the python way)\n",
    "a = 10\n",
    "b = 20\n",
    "print(f\"a={a}, b={b}\")\n",
    "a, b = b, a\n",
    "print(f\"a={a}, b={b}\")"
   ]
  },
  {
   "cell_type": "code",
   "execution_count": null,
   "metadata": {
    "id": "eaGeD3L2Mxz-"
   },
   "outputs": [],
   "source": [
    "#Addition & Assignment\n",
    "x = 20\n",
    "x = x + 5\n",
    "print(x)\n",
    "\n",
    "#shortcut assignment operator\n",
    "y = 10\n",
    "y += 5\n",
    "print(y)"
   ]
  },
  {
   "cell_type": "markdown",
   "metadata": {
    "id": "Firanzw0PY_7"
   },
   "source": [
    "![Screenshot_2020-10-12_20-36-37.png](data:image/png;base64,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)"
   ]
  },
  {
   "cell_type": "markdown",
   "metadata": {
    "id": "ms95nFSjPt5D"
   },
   "source": [
    "**Comparison Operator**"
   ]
  },
  {
   "cell_type": "code",
   "execution_count": null,
   "metadata": {
    "id": "Rir6W1lAMx-w"
   },
   "outputs": [],
   "source": [
    "# == operator (double equal)\n",
    "print(5==5)"
   ]
  },
  {
   "cell_type": "code",
   "execution_count": null,
   "metadata": {
    "id": "YgJnDQTrMyhS"
   },
   "outputs": [],
   "source": [
    "# != operator (not equal)\n",
    "x = 10\n",
    "y = 6\n",
    "print(x != y)"
   ]
  },
  {
   "cell_type": "code",
   "execution_count": null,
   "metadata": {
    "id": "OMifGanlMzM7"
   },
   "outputs": [],
   "source": [
    "# > operator  (greater than)\n",
    "x = 5\n",
    "y = 10\n",
    "print(x > y)"
   ]
  },
  {
   "cell_type": "code",
   "execution_count": null,
   "metadata": {
    "id": "nTUMYnchDIV_"
   },
   "outputs": [],
   "source": [
    "# < operator (less than)\n",
    "x = 5\n",
    "y = 10\n",
    "print(x < y)"
   ]
  },
  {
   "cell_type": "code",
   "execution_count": null,
   "metadata": {
    "id": "HmT0Y-vdRJhH"
   },
   "outputs": [],
   "source": [
    "# <= operator (less than or equal)\n",
    "x = 5\n",
    "y = 10\n",
    "print(x <= y)"
   ]
  },
  {
   "cell_type": "code",
   "execution_count": null,
   "metadata": {
    "id": "NoJzULipRJ74"
   },
   "outputs": [],
   "source": [
    "# >= operator (greater than or equal)\n",
    "x = 5\n",
    "y = 10\n",
    "print(x >= y)"
   ]
  },
  {
   "cell_type": "markdown",
   "metadata": {
    "id": "huvH9znVRy_E"
   },
   "source": [
    "**Logical Operator**"
   ]
  },
  {
   "cell_type": "code",
   "execution_count": null,
   "metadata": {
    "id": "09dMs7RYR1zc"
   },
   "outputs": [],
   "source": [
    "# and operator\n",
    "a = 6; b = 7; x = 10; y = 5\n",
    "print(a < b and x > y)"
   ]
  },
  {
   "cell_type": "code",
   "execution_count": null,
   "metadata": {
    "id": "RzPvRyHLR1_t"
   },
   "outputs": [],
   "source": [
    "# or operator\n",
    "a = 6; b = 7; x = 10; y = 5\n",
    "print(a>b or x > y)"
   ]
  },
  {
   "cell_type": "code",
   "execution_count": null,
   "metadata": {
    "id": "POwdTICcR2L6"
   },
   "outputs": [],
   "source": [
    "# not operator\n",
    "x = 10\n",
    "print(not(x<5))"
   ]
  },
  {
   "cell_type": "markdown",
   "metadata": {
    "id": "fjHsH1pTTNoQ"
   },
   "source": [
    "**Membership Operator**"
   ]
  },
  {
   "cell_type": "code",
   "execution_count": null,
   "metadata": {
    "id": "Wa61cSUoR2ej"
   },
   "outputs": [],
   "source": [
    "# in operator\n",
    "movie_title = \"Aynabaji\"\n",
    "print('Ayna' in movie_title)\n",
    "print('bazi' in movie_title)"
   ]
  },
  {
   "cell_type": "code",
   "execution_count": null,
   "metadata": {
    "id": "ZPqA_sBBR2oj"
   },
   "outputs": [],
   "source": [
    "# not in operator\n",
    "quote = \"Time stops, when lies become the truth.\"\n",
    "print('Time' not in quote)\n",
    "print('truth' in quote)"
   ]
  },
  {
   "cell_type": "markdown",
   "metadata": {
    "id": "dS1cU4WYUy_T"
   },
   "source": [
    "**Identity Operators, Bitwise Operator**\n",
    "\n",
    "\n",
    "```\n",
    "[We can skip it for now]\n",
    "```\n",
    "\n"
   ]
  },
  {
   "cell_type": "markdown",
   "metadata": {
    "id": "q4o4_hVmqh6M"
   },
   "source": [
    "## **7. Some Common String Methods**"
   ]
  },
  {
   "cell_type": "markdown",
   "metadata": {
    "id": "mvs15PK2rH-s"
   },
   "source": [
    "**Multiline String**"
   ]
  },
  {
   "cell_type": "code",
   "execution_count": null,
   "metadata": {
    "id": "OcJuRgdcq1nB"
   },
   "outputs": [],
   "source": [
    "a = \"\"\"Lorem ipsum dolor sit amet,\n",
    "consectetur adipiscing elit,\n",
    "sed do eiusmod tempor incididunt\n",
    "ut labore et dolore magna aliqua.\"\"\"\n",
    "\n",
    "print(a)"
   ]
  },
  {
   "cell_type": "markdown",
   "metadata": {
    "id": "0a9uKsS9rgHg"
   },
   "source": [
    "**Length of a String**"
   ]
  },
  {
   "cell_type": "code",
   "execution_count": null,
   "metadata": {
    "id": "I4JNQROXrTdb"
   },
   "outputs": [],
   "source": [
    "length = len(a)\n",
    "print(length)\n",
    "\n",
    "name = input()\n",
    "length = len(name)\n",
    "print(length)"
   ]
  },
  {
   "cell_type": "markdown",
   "metadata": {
    "id": "fhdUKBjUr26Q"
   },
   "source": [
    "**Making string UpperCase**"
   ]
  },
  {
   "cell_type": "code",
   "execution_count": null,
   "metadata": {
    "id": "0AOTQT5ir2j5"
   },
   "outputs": [],
   "source": [
    "name = \"Test Name\"\n",
    "upper_name = name.upper()\n",
    "print(name)"
   ]
  },
  {
   "cell_type": "markdown",
   "metadata": {
    "id": "3VKta9uSsG0E"
   },
   "source": [
    "**Making String LoweCase**"
   ]
  },
  {
   "cell_type": "code",
   "execution_count": null,
   "metadata": {
    "id": "aKUvoFrQsLI7"
   },
   "outputs": [],
   "source": [
    "name = \"Test Name\"\n",
    "lower_name = name.lower()\n",
    "print(lower_name)"
   ]
  },
  {
   "cell_type": "markdown",
   "metadata": {
    "id": "aJrZHov2s5zV"
   },
   "source": [
    "**Strip Method**"
   ]
  },
  {
   "cell_type": "code",
   "execution_count": null,
   "metadata": {
    "id": "0VSouACYs8Mp"
   },
   "outputs": [],
   "source": [
    "string = \"   Hello, World!    \"\n",
    "string2 = string.strip()\n",
    "print(string2)\n",
    "\n",
    "print(len(string), len(string2))"
   ]
  },
  {
   "cell_type": "markdown",
   "metadata": {
    "id": "x-GY5Rgethli"
   },
   "source": [
    "**Split Method**"
   ]
  },
  {
   "cell_type": "code",
   "execution_count": null,
   "metadata": {
    "id": "3sYDqVGbtl8s"
   },
   "outputs": [],
   "source": [
    "string = \"person1,person2,person3\"\n",
    "names = string.split(',')\n",
    "print(names)"
   ]
  },
  {
   "cell_type": "markdown",
   "metadata": {
    "id": "TlrVs1TbtxEo"
   },
   "source": [
    "**Replace Method**"
   ]
  },
  {
   "cell_type": "code",
   "execution_count": null,
   "metadata": {
    "id": "gihTAJGXtxSG"
   },
   "outputs": [],
   "source": [
    "message = \"Hello World.\"\n",
    "new_message = message.replace('Hello', 'GoodBye')\n",
    "print(new_message)"
   ]
  }
 ],
 "metadata": {
  "colab": {
   "collapsed_sections": [],
   "name": "Python_Day-1.ipynb",
   "provenance": []
  },
  "kernelspec": {
   "display_name": "Python 3",
   "language": "python",
   "name": "python3"
  },
  "language_info": {
   "codemirror_mode": {
    "name": "ipython",
    "version": 3
   },
   "file_extension": ".py",
   "mimetype": "text/x-python",
   "name": "python",
   "nbconvert_exporter": "python",
   "pygments_lexer": "ipython3",
   "version": "3.7.6"
  }
 },
 "nbformat": 4,
 "nbformat_minor": 1
}
