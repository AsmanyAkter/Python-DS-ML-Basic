{
 "cells": [
  {
   "cell_type": "markdown",
   "metadata": {},
   "source": [
    "<center><h1>Introduction to the Data Science Toolbox</h1></center>"
   ]
  },
  {
   "cell_type": "markdown",
   "metadata": {},
   "source": [
    "## Table of contents\n",
    "\n",
    "* [Jupyter Notebook](#tbx_jupy) [Coding Environment]\n",
    "* [SciPy](#tbx_scipy) [Math & Stat]\n",
    "* [StatsModels](#tbx_stats) [Math & Stat]\n",
    "* [Numpy](#tbx_numpy) [Math & Stat]\n",
    "* [Pandas](#tbx_pandas) [Data Processing]\n",
    "* [Scikit-learn](#tbx_sklearn) [Machine Learning]\n",
    "* [Keras](#tbx_keras) [Deep Learning]\n",
    "* [Matplotlib, Seaborn](#tbx_vis) [Visualization]\n"
   ]
  },
  {
   "cell_type": "markdown",
   "metadata": {},
   "source": [
    "<a id='tbx_jupy'></a>\n",
    "## Jupyter Notebook\n",
    "\n",
    "<img src=\"imgs/jupyter-logo.svg\" alt=\"drawing\" width=\"200\">\n",
    "\n",
    "The Jupyter Notebook is an open-source web application that allows you to create and share documents that contain live code, equations, visualizations and narrative text. Uses include: data cleaning and transformation, numerical simulation, statistical modeling, data visualization, machine learning, and much more.\n",
    "\n",
    "* Website: https://jupyter.org/\n",
    "* Markdown: https://www.markdownguide.org/basic-syntax/"
   ]
  },
  {
   "cell_type": "markdown",
   "metadata": {},
   "source": [
    "<a id='tbx_scipy'></a>\n",
    "## SciPy\n",
    "\n",
    "<img src=\"imgs/scipy.png\" alt=\"drawing\" width=\"200\">\n",
    "\n",
    "**The SciPy ecosystem**\n",
    "\n",
    "Scientific computing in Python builds upon a small core of packages:\n",
    "\n",
    "**Python**, a general purpose programming language. It is interpreted and dynamically typed and is very suited for interactive work and quick prototyping, while being powerful enough to write large applications in.\n",
    "\n",
    "**NumPy**, the fundamental package for numerical computation. It defines the numerical array and matrix types and basic operations on them.\n",
    "\n",
    "The **SciPy** library, a collection of numerical algorithms and domain-specific toolboxes, including signal processing, optimization, statistics and much more.\n",
    "\n",
    "**Matplotlib**, a mature and popular plotting package, that provides publication-quality 2D plotting as well as rudimentary 3D plotting\n",
    "\n",
    "* Website: https://www.scipy.org/\n",
    "* Scipy Lecture Notes: https://scipy-lectures.org/"
   ]
  },
  {
   "cell_type": "markdown",
   "metadata": {},
   "source": [
    "<a id='tbx_stats'></a>\n",
    "## StatsModels\n",
    "\n",
    "<img src=\"imgs/statsmodels.png\" alt=\"drawing\" width=\"500\">\n",
    "\n",
    "**statsmodels** is a Python module that provides classes and functions for the estimation of many different statistical models, as well as for conducting statistical tests, and statistical data exploration.\n",
    "\n",
    "* Website: https://www.statsmodels.org/stable/index.html"
   ]
  },
  {
   "cell_type": "markdown",
   "metadata": {},
   "source": [
    "<a id='tbx_numpy'></a>\n",
    "## Numpy\n",
    "\n",
    "<img src=\"imgs/numpy.png\" alt=\"drawing\" width=\"400\">\n",
    "\n",
    "NumPy is the fundamental package for scientific computing with Python. It contains among other things:\n",
    "\n",
    "* a powerful N-dimensional array object\n",
    "* sophisticated (broadcasting) functions\n",
    "* tools for integrating C/C++ and Fortran code\n",
    "* useful linear algebra, Fourier transform, and random number capabilities\n",
    "\n",
    "Besides its obvious scientific uses, NumPy can also be used as an efficient multi-dimensional container of generic data. Arbitrary data-types can be defined. This allows NumPy to seamlessly and speedily integrate with a wide variety of databases.\n",
    "\n",
    "* Website: https://www.numpy.org/\n",
    "* Numpy Tutorial: http://cs231n.github.io/python-numpy-tutorial/"
   ]
  },
  {
   "cell_type": "markdown",
   "metadata": {},
   "source": [
    "<a id='tbx_pandas'></a>\n",
    "## Pandas\n",
    "\n",
    "<img src=\"imgs/pandas.png\" alt=\"drawing\" width=\"500\">\n",
    "\n",
    "**pandas** is an open source, BSD-licensed library providing high-performance, easy-to-use data structures and data analysis tools for the Python programming language.\n",
    "\n",
    "* Website: https://pandas.pydata.org/"
   ]
  },
  {
   "cell_type": "markdown",
   "metadata": {},
   "source": [
    "<a id='tbx_sklearn'></a>\n",
    "## Scikit-learn\n",
    "\n",
    "<img src=\"imgs/sklearn.png\" alt=\"drawing\" width=\"300\">\n",
    "\n",
    "Scikit-learn enables you to do Machine Learning in Python.\n",
    "\n",
    "* Simple and efficient tools for data mining and data analysis\n",
    "* Accessible to everybody, and reusable in various contexts\n",
    "* Built on NumPy, SciPy, and matplotlib\n",
    "* Open source, commercially usable - BSD license\n",
    "\n",
    "Website: https://scikit-learn.org/stable/"
   ]
  },
  {
   "cell_type": "markdown",
   "metadata": {},
   "source": [
    "<a id='tbx_keras'></a>\n",
    "## Keras\n",
    "\n",
    "<img src=\"imgs/keras.png\" alt=\"drawing\" width=\"400\">\n",
    "\n",
    "**Keras** is a high-level neural networks API, written in Python and capable of running on top of TensorFlow, CNTK, or Theano. It was developed with a focus on enabling fast experimentation. Being able to go from idea to result with the least possible delay is key to doing good research.\n",
    "\n",
    "Use Keras if you need a deep learning library that:\n",
    "\n",
    "* Allows for easy and fast prototyping (through user friendliness, modularity, and extensibility).\n",
    "* Supports both convolutional networks and recurrent networks, as well as combinations of the two.\n",
    "* Runs seamlessly on CPU and GPU.\n",
    "\n",
    "Website: https://keras.io/"
   ]
  },
  {
   "cell_type": "markdown",
   "metadata": {},
   "source": [
    "<a id='tbx_vis'></a>\n",
    "## Matplotlib, Seaborn\n",
    "\n",
    "<img src=\"imgs/matplotlib.png\" alt=\"drawing\" width=\"400\">\n",
    "\n",
    "**Matplotlib** is a Python 2D plotting library which produces publication quality figures in a variety of hardcopy formats and interactive environments across platforms. Matplotlib can be used in Python scripts, the Python and IPython shells, the Jupyter notebook, web application servers, and four graphical user interface toolkits.\n",
    "\n",
    "**Seaborn** is a Python data visualization library based on matplotlib. It provides a high-level interface for drawing attractive and informative statistical graphics.\n",
    "\n",
    "* Website: https://matplotlib.org/\n",
    "* Website: https://seaborn.pydata.org/"
   ]
  }
 ],
 "metadata": {
  "kernelspec": {
   "display_name": "Python 3",
   "language": "python",
   "name": "python3"
  },
  "language_info": {
   "codemirror_mode": {
    "name": "ipython",
    "version": 3
   },
   "file_extension": ".py",
   "mimetype": "text/x-python",
   "name": "python",
   "nbconvert_exporter": "python",
   "pygments_lexer": "ipython3",
   "version": "3.7.2"
  }
 },
 "nbformat": 4,
 "nbformat_minor": 2
}
