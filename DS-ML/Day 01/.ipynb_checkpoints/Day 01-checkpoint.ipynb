{
 "cells": [
  {
   "cell_type": "markdown",
   "metadata": {},
   "source": [
    "<h1><center>Data Science: A Birds Eye View</center></h1>"
   ]
  },
  {
   "cell_type": "markdown",
   "metadata": {},
   "source": [
    "## Table of contents\n",
    "\n",
    "* [What is Data Science?](#ds_view)\n",
    "* [The history of Data Science](#ds_history)\n",
    "* [Applications of Data Science](#ds_app)\n",
    "* [Impact of Data Science in Business](#ds_busi)\n",
    "* [The Data Science Venn Diagram](#ds_venn)\n",
    "* [Skills needed to be a Data Scientist](#ds_skills)"
   ]
  },
  {
   "cell_type": "markdown",
   "metadata": {},
   "source": [
    "<a id='ds_view'></a>\n",
    "## What is Data Science?\n",
    "\n",
    "<img src=\"imgs/data-science.jpg\" alt=\"drawing\" width=\"800\">\n",
    "\n",
    "<div style=\"text-align: right\"> \n",
    "    Source: <a href=\"https://www.datanami.com/2018/09/17/improving-your-odds-with-data-science-hiring/\">datanami</a>\n",
    "</div>"
   ]
  },
  {
   "cell_type": "markdown",
   "metadata": {},
   "source": [
    "\"Data science is a **multi-disciplinary** field that uses scientific methods, processes, algorithms and systems to **extract knowledge** and insights from structured and unstructured **data**.\""
   ]
  },
  {
   "cell_type": "markdown",
   "metadata": {},
   "source": [
    "<a id='ds_history'></a>\n",
    "## The history of Data Science"
   ]
  },
  {
   "cell_type": "markdown",
   "metadata": {},
   "source": [
    "* In **1962**, John W. Tukey wrote **\"The Future of Data Analysis\"** where he told that data analysis is intrinsically an empirical science.\n",
    "\n",
    "* In **1974**, Peter Naur published the book **Concise Survey of Computer Methods** in Sweden and the United States. The term \"data science\" has been used freely in this book. Naur also offered a definition of data science: *\"The science of dealing with data, once they have been established, while the relation of the data to what they represent is delegated to other fields and sciences.\"*\n",
    "\n",
    "* Later, in **1977**, Tukey published Exploratory Data Analysis, arguing that more emphasis needed to be placed on using data to suggest hypotheses to test.\n",
    "\n",
    "* In **1989**, Gregory Piatetsky-Shapiro organizes and chairs the first Knowledge Discovery in Databases (KDD) workshop. In 1995, it became the annual ACM SIGKDD Conference on Knowledge Discovery and Data Mining (KDD).\n",
    "\n",
    "* In **1996**, the members of the International Federation of Classification Societies (IFCS) meet in Kobe, Japan, for their biennial conference. For the first time, the term \"data science\" was included in the title of the conference (“Data science, classification, and related methods”).\n",
    "\n",
    "* In **1997**, The journal Data Mining and Knowledge Discovery was launched.\n",
    "\n",
    "* Around **2007**, Turing award winner Jim Gray envisioned \"data-driven science\" as a **\"fourth paradigm\"** of science that uses the computational analysis of large data as primary scientific method.\n",
    "\n",
    "* ..................................................................\n",
    "* ..................................................................\n",
    "* ..................................................................\n",
    "\n",
    "* Finally, data science made its BIG BANG in **2012** when Tom Davenport and D.J. Patil published an article titled **\"Data Scientist: The Sexiest Job of the 21st Century\"** in the Harvard Business Review."
   ]
  },
  {
   "cell_type": "markdown",
   "metadata": {},
   "source": [
    "<a id='ds_app'></a>\n",
    "## Applications of Data Science"
   ]
  },
  {
   "cell_type": "markdown",
   "metadata": {},
   "source": [
    "### 1. Financial Services\n",
    "<img src=\"imgs/financial-services.png\" alt=\"drawing\" width=\"800\">\n",
    "\n",
    "<div style=\"text-align: right\"> \n",
    "    Source: <a href=\"http://www.aptituredigital.com.au/Media/Default/industries/financial-services-word-cloud.png\">aptituredigital</a>\n",
    "</div>"
   ]
  },
  {
   "cell_type": "markdown",
   "metadata": {},
   "source": [
    "* Risk analytics and regulation\n",
    "* Customer Segmentation\n",
    "* Cross-selling and up-selling\n",
    "* Sales and marketing campaign management\n",
    "* Credit worthiness evaluation "
   ]
  },
  {
   "cell_type": "markdown",
   "metadata": {},
   "source": [
    "### 2. Virtual Personal Assistants (AI/ML)\n",
    "<img src=\"imgs/vpa.jpg\" alt=\"drawing\" width=\"600\">\n",
    "\n",
    "<div style=\"text-align: right\"> \n",
    "    Source: <a href=\"https://www.uctoday.com/wp-content/uploads/2018/10/vPABlog.jpg\">uctoday</a>\n",
    "</div>"
   ]
  },
  {
   "cell_type": "markdown",
   "metadata": {},
   "source": [
    "* Amazon’s Alexa\n",
    "* Google Assistant\n",
    "* Apple’s Siri"
   ]
  },
  {
   "cell_type": "markdown",
   "metadata": {},
   "source": [
    "### 3. Marketing and Sales\n",
    "<img src=\"imgs/sales-marketing.jpg\" alt=\"drawing\" width=\"600\">\n",
    "\n",
    "<div style=\"text-align: right\"> \n",
    "    Source: <a href=\"http://knowledgehub-asia.com/wp-content/uploads/revslider/homepage/sales-marketing.jpg\">knowledgehub-asia</a>\n",
    "</div>"
   ]
  },
  {
   "cell_type": "markdown",
   "metadata": {},
   "source": [
    "* Price optimization\n",
    "* Customer segmentation\n",
    "* Promotional offers\n",
    "* Allocation of budget\n",
    "* Personalize customer experience\n",
    "* Supply & demand analysis\n",
    "* Insights into customer’s emotions"
   ]
  },
  {
   "cell_type": "markdown",
   "metadata": {},
   "source": [
    "### 4. Travel and Hospitality\n",
    "<img src=\"imgs/travel-hospitality.jpg\" alt=\"drawing\" width=\"1000\">\n",
    "\n",
    "<div style=\"text-align: right\"> \n",
    "    Source: <a href=\"http://www.parthinfosystems.com/images/img/New%20folder/travelhospitality.jpg\">parthinfosystems</a>\n",
    "</div>"
   ]
  },
  {
   "cell_type": "markdown",
   "metadata": {},
   "source": [
    "* Aircraft scheduling\n",
    "* Dynamic pricing\n",
    "* Sonsumer feedback and interaction analysis\n",
    "* Customer complaint resolution\n",
    "* Traffic patterns and congestion management\n",
    "* Ride sharing\n",
    "* Online ticketing, booking"
   ]
  },
  {
   "cell_type": "markdown",
   "metadata": {},
   "source": [
    "### 5. Healthcare and Life Sciences\n",
    "<img src=\"imgs/healthcare.jpg\" alt=\"drawing\" width=\"1000\">\n",
    "\n",
    "<div style=\"text-align: right\"> \n",
    "    Source: <a href=\"https://liaison.opentext.com/wp-content/uploads/2017/12/1512505583025-iStock-695349930.jpg\">opentext</a>\n",
    "</div>"
   ]
  },
  {
   "cell_type": "markdown",
   "metadata": {},
   "source": [
    "* Alerts and diagnostics from real-time patient data\n",
    "* Disease Identification and risk stratification\n",
    "* Patient triage optimization\n",
    "* Proactive health management\n",
    "* Healthcare provider sentiment analysis\n",
    "* DNA Protein Sequence Analysis"
   ]
  },
  {
   "cell_type": "markdown",
   "metadata": {},
   "source": [
    "### 6. Social Media Services\n",
    "<img src=\"imgs/social-media.png\" alt=\"drawing\" width=\"600\">\n",
    "\n",
    "<div style=\"text-align: right\"> \n",
    "    Source: <a href=\"http://openthrive.com/wp-content/uploads/2018/04/smm-7464764.png\">openthrive</a>\n",
    "</div>"
   ]
  },
  {
   "cell_type": "markdown",
   "metadata": {},
   "source": [
    "* Friend suggestion\n",
    "* Photo tagging and recognition\n",
    "* Social media marketing\n",
    "* Sentiment analysis"
   ]
  },
  {
   "cell_type": "markdown",
   "metadata": {},
   "source": [
    "<a id='ds_busi'></a>\n",
    "## Impact of Data Science in Business\n",
    "\n",
    "<img src=\"imgs/business.png\" alt=\"drawing\" width=\"1000\">\n",
    "\n",
    "<div style=\"text-align: right\"> \n",
    "    Source: <a href=\"https://plastekcards.com/wp-content/uploads/2015/12/business-strategy.png\">plastekcards</a>\n",
    "</div>"
   ]
  },
  {
   "cell_type": "markdown",
   "metadata": {},
   "source": [
    "* **Innovation:** Foster new thinking and business disruptions based on data science\n",
    "* **Exploration:** Explore unknown transformative patterns in data\n",
    "* **Prototyping:** Challenge the status quo with radical new solutions\n",
    "* **Refinement:** Continuously improve existing processes and products\n",
    "* **Firefighting:** Identify the drivers of certain undesirable situations"
   ]
  },
  {
   "cell_type": "markdown",
   "metadata": {},
   "source": [
    "<a id='ds_venn'></a>\n",
    "## The Data Science Venn Diagram\n",
    "\n",
    "<img src=\"imgs/data_science_venn_diagram.png\" alt=\"drawing\" width=\"600\">\n",
    "\n",
    "<div style=\"text-align: right\"> \n",
    "    Source: <a href=\"https://www.kdnuggets.com/2016/10/battle-data-science-venn-diagrams.html\">kdnuggets</a>\n",
    "</div>\n",
    "\n",
    "In January 2014, **Steven Geringer** provided a tweak that, instead of putting Data Science in the middle three-way intersection like Conway, calls all of it data science and calls the intersection Unicorn (i.e. a mythical beast with magical powers who's rumored to exist but is never actually seen in the wild.)"
   ]
  },
  {
   "cell_type": "markdown",
   "metadata": {},
   "source": [
    "<a id='ds_skills'></a>\n",
    "## Skills needed to be a Data Scientist"
   ]
  },
  {
   "cell_type": "markdown",
   "metadata": {},
   "source": [
    "* **Mathematics**: Linear Algebra, Calculus (Univariate, Multivariate), Numerical Optimization\n",
    "* **Statistics**: Descriptive Stats, Inferential Stats, Probability Theory, Bayesian\n",
    "* **Programming**: Python or R or Julia\n",
    "* **Machine Learning**: Regression, Classification, Clustering, NLP\n",
    "* **Database**: SQL, NoSQL\n",
    "* **Domain Expertise**\n",
    "* Obviously **MOTIVATION** and **GRIT**!!"
   ]
  }
 ],
 "metadata": {
  "kernelspec": {
   "display_name": "Python 3",
   "language": "python",
   "name": "python3"
  },
  "language_info": {
   "codemirror_mode": {
    "name": "ipython",
    "version": 3
   },
   "file_extension": ".py",
   "mimetype": "text/x-python",
   "name": "python",
   "nbconvert_exporter": "python",
   "pygments_lexer": "ipython3",
   "version": "3.7.6"
  }
 },
 "nbformat": 4,
 "nbformat_minor": 2
}
